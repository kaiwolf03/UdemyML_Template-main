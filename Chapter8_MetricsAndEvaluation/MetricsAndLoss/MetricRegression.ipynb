{
 "cells": [
  {
   "cell_type": "code",
   "execution_count": null,
   "metadata": {},
   "outputs": [],
   "source": []
  },
  {
   "cell_type": "markdown",
   "metadata": {},
   "source": [
    "#### Formeln: \n",
    "\n",
    "<font size=5>\n",
    "\n",
    "  - $R^2 = 1 - \\frac{\\sum_{i=1}^n(y_i-\\hat{y})^2}{\\sum_{i=1}^n(y_i-\\bar{y})^2}$  \n",
    "  \n",
    "  - $MAPE = 100 * \\frac{1}{n} \\sum_{i=1}^n  \\big|\\frac{y_i - \\hat{y}_i}{y_i}\\big|$\n",
    "\n",
    "</font>"
   ]
  },
  {
   "cell_type": "code",
   "execution_count": null,
   "metadata": {},
   "outputs": [],
   "source": []
  }
 ],
 "metadata": {
  "kernelspec": {
   "display_name": "Python 3",
   "language": "python",
   "name": "python3"
  },
  "language_info": {
   "codemirror_mode": {
    "name": "ipython",
    "version": 3
   },
   "file_extension": ".py",
   "mimetype": "text/x-python",
   "name": "python",
   "nbconvert_exporter": "python",
   "pygments_lexer": "ipython3",
   "version": "3.9.7"
  }
 },
 "nbformat": 4,
 "nbformat_minor": 2
}
